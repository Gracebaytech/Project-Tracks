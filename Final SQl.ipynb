{
 "cells": [
  {
   "cell_type": "markdown",
   "id": "abcde9d5",
   "metadata": {},
   "source": [
    "## SQL AS DATA SCIENTISTS USING PYTHON JUPYTER NOTEBOOK"
   ]
  },
  {
   "cell_type": "markdown",
   "id": "29224210",
   "metadata": {},
   "source": [
    "> **Problem Statement:** The International Olympic Committee (IOC) is worried about having several CSV and is apprehensive about extracting information from various CSV. A database is essential for them. I've been hired to handle data storage and database queries."
   ]
  },
  {
   "cell_type": "code",
   "execution_count": 1,
   "id": "764e06c4",
   "metadata": {},
   "outputs": [],
   "source": [
    "# Importing of libraries\n",
    "import pandas as pd\n",
    "import sqlite3\n",
    "import os"
   ]
  },
  {
   "cell_type": "code",
   "execution_count": 2,
   "id": "a55d3803",
   "metadata": {},
   "outputs": [
    {
     "data": {
      "text/plain": [
       "'C:\\\\Users\\\\Dell\\\\Documents\\\\sql-course-materials\\\\SQL Course Materials'"
      ]
     },
     "execution_count": 2,
     "metadata": {},
     "output_type": "execute_result"
    }
   ],
   "source": [
    "os.getcwd()"
   ]
  },
  {
   "cell_type": "code",
   "execution_count": 3,
   "id": "41a06a7a",
   "metadata": {},
   "outputs": [],
   "source": [
    "## Creating path to where sql datafile is stored\n",
    "path=\"C:/Users/Dell/Documents/sql-course-materials/SQL Course Materials/Olympic_Data.db\""
   ]
  },
  {
   "cell_type": "code",
   "execution_count": 4,
   "id": "5949b8d8",
   "metadata": {},
   "outputs": [],
   "source": [
    "# Creating connector object\n",
    "\n",
    "connector=sqlite3.connect(path,detect_types=sqlite3.PARSE_DECLTYPES | sqlite3.PARSE_COLNAMES)\n"
   ]
  },
  {
   "cell_type": "code",
   "execution_count": 5,
   "id": "ef642931",
   "metadata": {},
   "outputs": [],
   "source": [
    "# creating cursor to be used to execute sql statement \n",
    "curr=connector.cursor()"
   ]
  },
  {
   "cell_type": "code",
   "execution_count": 6,
   "id": "62c8cf11",
   "metadata": {},
   "outputs": [],
   "source": [
    "# Path for the dataset\n",
    "datapath=\"C:/Users/Dell/Documents/sql-course-materials/SQL Course Materials/Olypmic/\""
   ]
  },
  {
   "cell_type": "code",
   "execution_count": 7,
   "id": "88b59818",
   "metadata": {},
   "outputs": [],
   "source": [
    "os.chdir(datapath)\n"
   ]
  },
  {
   "cell_type": "code",
   "execution_count": 8,
   "id": "af1ed763",
   "metadata": {},
   "outputs": [],
   "source": [
    "# Load all the dataset\n",
    "df_Bio=pd.read_csv(\"Olympic_Athlete_Bio.csv\")\n",
    "df_Event=pd.read_csv(\"Olympic_Athlete_Event_Results.csv\")\n",
    "df_Medal=pd.read_csv(\"Olympic_Games_Medal_Tally.csv\")\n",
    "df_Results=pd.read_csv(\"Olympic_Results.csv\")\n",
    "df_Country=pd.read_csv(\"Olympics_Country.csv\")\n",
    "df_Games=pd.read_csv(\"Olympics_Games.csv\")\n"
   ]
  },
  {
   "cell_type": "markdown",
   "id": "c8b9d1ed",
   "metadata": {},
   "source": [
    "### Basic Dataset Information\n",
    "This dataset contains: - 154,902 unique athletes and their biological information i.e. height, weight, date of birth - All Winter / Summer Olympic games from 1896 to 2022 - 7326 unique results (result for a specific event played at an Olympic game) - 314,726 rows of athlete to result data which includes both team sports and individual sports - each row includes position - which is how well the athlete performed for the specific event (Ranked) - Note: not all position is integer - contains strings which contains information on which round / heat they achieved - 235 distinct countries (some existing from the past)"
   ]
  },
  {
   "cell_type": "code",
   "execution_count": 9,
   "id": "f4a3f85f",
   "metadata": {},
   "outputs": [
    {
     "data": {
      "text/html": [
       "<div>\n",
       "<style scoped>\n",
       "    .dataframe tbody tr th:only-of-type {\n",
       "        vertical-align: middle;\n",
       "    }\n",
       "\n",
       "    .dataframe tbody tr th {\n",
       "        vertical-align: top;\n",
       "    }\n",
       "\n",
       "    .dataframe thead th {\n",
       "        text-align: right;\n",
       "    }\n",
       "</style>\n",
       "<table border=\"1\" class=\"dataframe\">\n",
       "  <thead>\n",
       "    <tr style=\"text-align: right;\">\n",
       "      <th></th>\n",
       "      <th>s/n</th>\n",
       "      <th>athlete_id</th>\n",
       "      <th>name</th>\n",
       "      <th>sex</th>\n",
       "      <th>born</th>\n",
       "      <th>height</th>\n",
       "      <th>weight</th>\n",
       "      <th>country</th>\n",
       "      <th>country_noc</th>\n",
       "      <th>description</th>\n",
       "      <th>special_notes</th>\n",
       "    </tr>\n",
       "  </thead>\n",
       "  <tbody>\n",
       "    <tr>\n",
       "      <th>0</th>\n",
       "      <td>1</td>\n",
       "      <td>16809</td>\n",
       "      <td>Károly Teppert</td>\n",
       "      <td>Male</td>\n",
       "      <td>1891-07-20</td>\n",
       "      <td>na</td>\n",
       "      <td>na</td>\n",
       "      <td>Hungary</td>\n",
       "      <td>HUN</td>\n",
       "      <td>Károly Teppert started competing in cycling in...</td>\n",
       "      <td>na</td>\n",
       "    </tr>\n",
       "    <tr>\n",
       "      <th>1</th>\n",
       "      <td>2</td>\n",
       "      <td>43737</td>\n",
       "      <td>Andrzej Socharski</td>\n",
       "      <td>Male</td>\n",
       "      <td>8/31/1947</td>\n",
       "      <td>173</td>\n",
       "      <td>72</td>\n",
       "      <td>Poland</td>\n",
       "      <td>POL</td>\n",
       "      <td>na</td>\n",
       "      <td>Listed in Olympians Who Won a Medal at the Wor...</td>\n",
       "    </tr>\n",
       "    <tr>\n",
       "      <th>2</th>\n",
       "      <td>3</td>\n",
       "      <td>50147</td>\n",
       "      <td>Nathalie Wunderlich</td>\n",
       "      <td>Female</td>\n",
       "      <td>6/3/1971</td>\n",
       "      <td>170</td>\n",
       "      <td>50</td>\n",
       "      <td>Switzerland</td>\n",
       "      <td>SUI</td>\n",
       "      <td>na</td>\n",
       "      <td>na</td>\n",
       "    </tr>\n",
       "    <tr>\n",
       "      <th>3</th>\n",
       "      <td>4</td>\n",
       "      <td>5085</td>\n",
       "      <td>Miha Lokar</td>\n",
       "      <td>Male</td>\n",
       "      <td>9/10/1935</td>\n",
       "      <td>182</td>\n",
       "      <td>76</td>\n",
       "      <td>Yugoslavia</td>\n",
       "      <td>YUG</td>\n",
       "      <td>na</td>\n",
       "      <td>Listed in Olympians Who Won a Medal at the Eur...</td>\n",
       "    </tr>\n",
       "    <tr>\n",
       "      <th>4</th>\n",
       "      <td>5</td>\n",
       "      <td>136329</td>\n",
       "      <td>Austin Hack</td>\n",
       "      <td>Male</td>\n",
       "      <td>5/17/1992</td>\n",
       "      <td>203</td>\n",
       "      <td>100</td>\n",
       "      <td>United States</td>\n",
       "      <td>USA</td>\n",
       "      <td>na</td>\n",
       "      <td>na</td>\n",
       "    </tr>\n",
       "  </tbody>\n",
       "</table>\n",
       "</div>"
      ],
      "text/plain": [
       "   s/n  athlete_id                 name     sex        born height weight  \\\n",
       "0    1       16809       Károly Teppert    Male  1891-07-20     na     na   \n",
       "1    2       43737    Andrzej Socharski    Male   8/31/1947    173     72   \n",
       "2    3       50147  Nathalie Wunderlich  Female    6/3/1971    170     50   \n",
       "3    4        5085           Miha Lokar    Male   9/10/1935    182     76   \n",
       "4    5      136329          Austin Hack    Male   5/17/1992    203    100   \n",
       "\n",
       "          country country_noc  \\\n",
       "0         Hungary         HUN   \n",
       "1          Poland         POL   \n",
       "2     Switzerland         SUI   \n",
       "3      Yugoslavia         YUG   \n",
       "4   United States         USA   \n",
       "\n",
       "                                         description  \\\n",
       "0  Károly Teppert started competing in cycling in...   \n",
       "1                                                 na   \n",
       "2                                                 na   \n",
       "3                                                 na   \n",
       "4                                                 na   \n",
       "\n",
       "                                       special_notes  \n",
       "0                                                 na  \n",
       "1  Listed in Olympians Who Won a Medal at the Wor...  \n",
       "2                                                 na  \n",
       "3  Listed in Olympians Who Won a Medal at the Eur...  \n",
       "4                                                 na  "
      ]
     },
     "execution_count": 9,
     "metadata": {},
     "output_type": "execute_result"
    }
   ],
   "source": [
    "# View the Althlete Biography dataset\n",
    "df_Bio.head()"
   ]
  },
  {
   "cell_type": "code",
   "execution_count": 10,
   "id": "10fe0118",
   "metadata": {},
   "outputs": [
    {
     "name": "stdout",
     "output_type": "stream",
     "text": [
      "<class 'pandas.core.frame.DataFrame'>\n",
      "RangeIndex: 155031 entries, 0 to 155030\n",
      "Data columns (total 11 columns):\n",
      " #   Column         Non-Null Count   Dtype \n",
      "---  ------         --------------   ----- \n",
      " 0   s/n            155031 non-null  int64 \n",
      " 1   athlete_id     155031 non-null  int64 \n",
      " 2   name           155031 non-null  object\n",
      " 3   sex            155031 non-null  object\n",
      " 4   born           155031 non-null  object\n",
      " 5   height         155031 non-null  object\n",
      " 6   weight         155031 non-null  object\n",
      " 7   country        155031 non-null  object\n",
      " 8   country_noc    155031 non-null  object\n",
      " 9   description    155031 non-null  object\n",
      " 10  special_notes  155031 non-null  object\n",
      "dtypes: int64(2), object(9)\n",
      "memory usage: 13.0+ MB\n"
     ]
    }
   ],
   "source": [
    "# to know the data types\n",
    "\n",
    "df_Bio.info()"
   ]
  },
  {
   "cell_type": "code",
   "execution_count": 11,
   "id": "1f6f2af3",
   "metadata": {},
   "outputs": [
    {
     "data": {
      "text/plain": [
       "Index(['s/n', 'athlete_id', 'name', 'sex', 'born', 'height', 'weight',\n",
       "       'country', 'country_noc', 'description', 'special_notes'],\n",
       "      dtype='object')"
      ]
     },
     "execution_count": 11,
     "metadata": {},
     "output_type": "execute_result"
    }
   ],
   "source": [
    "df_Bio.columns"
   ]
  },
  {
   "cell_type": "code",
   "execution_count": 23,
   "id": "a6f78439",
   "metadata": {},
   "outputs": [
    {
     "data": {
      "text/plain": [
       "<sqlite3.Cursor at 0x29137372420>"
      ]
     },
     "execution_count": 23,
     "metadata": {},
     "output_type": "execute_result"
    }
   ],
   "source": [
    "# if the table is already exists to drop the table\n",
    "querry=\"DROP TABLE IF EXISTS  Athlete_Bio;\"\n",
    "curr.execute(querry)"
   ]
  },
  {
   "cell_type": "code",
   "execution_count": 24,
   "id": "71f44aea",
   "metadata": {},
   "outputs": [],
   "source": [
    "# Creating table for  Althlete Bio\n",
    "query=\"\"\" CREATE TABLE Athlete_Bio(\n",
    "    Athlete_Bio_id int(6),\n",
    "    Athlete_id int(6) PRIMARY KEY,\n",
    "    name text(50),\n",
    "    sex  text(6),\n",
    "    born char(12),\n",
    "    height numeric(6),\n",
    "    weight numeric(6),\n",
    "    country text(20),\n",
    "    country_noc text(6),\n",
    "    description text,\n",
    "    special_notes  text)\n",
    "\"\"\""
   ]
  },
  {
   "cell_type": "code",
   "execution_count": 25,
   "id": "a68fb808",
   "metadata": {},
   "outputs": [
    {
     "data": {
      "text/plain": [
       "<sqlite3.Cursor at 0x29137372420>"
      ]
     },
     "execution_count": 25,
     "metadata": {},
     "output_type": "execute_result"
    }
   ],
   "source": [
    "curr.execute(query)"
   ]
  },
  {
   "cell_type": "code",
   "execution_count": 26,
   "id": "75fb2e90",
   "metadata": {},
   "outputs": [
    {
     "data": {
      "text/plain": [
       "('Athlete_Bio',)"
      ]
     },
     "execution_count": 26,
     "metadata": {},
     "output_type": "execute_result"
    }
   ],
   "source": [
    "# To check whether the table has been created\n",
    "\n",
    "check = curr.execute(\"SELECT name FROM sqlite_master\")\n",
    "check.fetchone()"
   ]
  },
  {
   "cell_type": "code",
   "execution_count": 27,
   "id": "5b58f8b1",
   "metadata": {},
   "outputs": [
    {
     "data": {
      "text/plain": [
       "(155031, 11)"
      ]
     },
     "execution_count": 27,
     "metadata": {},
     "output_type": "execute_result"
    }
   ],
   "source": [
    "# Convert the dataset to set of tuples\n",
    "df_Bio_Tuple=tuple(df_Bio.itertuples(index=False,name=None))\n",
    "df_Bio.shape"
   ]
  },
  {
   "cell_type": "code",
   "execution_count": 28,
   "id": "6f03c164",
   "metadata": {},
   "outputs": [],
   "source": [
    "# Creating the values \n",
    "insertQuery=\"\"\"INSERT into  Athlete_Bio values(?,?,?,?,?,?,?,?,?,?,?) \"\"\""
   ]
  },
  {
   "cell_type": "code",
   "execution_count": 29,
   "id": "648eafde",
   "metadata": {},
   "outputs": [
    {
     "data": {
      "text/plain": [
       "<sqlite3.Cursor at 0x29137372420>"
      ]
     },
     "execution_count": 29,
     "metadata": {},
     "output_type": "execute_result"
    }
   ],
   "source": [
    "# Inserting many row at onces\n",
    "curr.executemany(insertQuery,df_Bio_Tuple)"
   ]
  },
  {
   "cell_type": "code",
   "execution_count": 31,
   "id": "7586f736",
   "metadata": {},
   "outputs": [],
   "source": [
    "# Remember to commit the transaction after executing INSERT.\n",
    "connector.commit()"
   ]
  },
  {
   "cell_type": "code",
   "execution_count": 32,
   "id": "10aa8433",
   "metadata": {},
   "outputs": [],
   "source": [
    "querry=\"select * from Athlete_Bio\""
   ]
  },
  {
   "cell_type": "code",
   "execution_count": 33,
   "id": "521ce277",
   "metadata": {},
   "outputs": [
    {
     "name": "stdout",
     "output_type": "stream",
     "text": [
      "(1, 16809, 'Károly Teppert', 'Male', '1891-07-20', 'na', 'na', ' Hungary', 'HUN', 'Károly Teppert started competing in cycling in the colors of Jóbarát KK in 1911 and moved to MTK in December that year. At the 1912 Stockholm Olympics, he competed in the road race, both individual and team. In addition to sports, Teppert also actively participated in the MTK bicycle division and the Hungarian Cycling Federation. After completing his career, he worked as a post officer.', 'na')\n"
     ]
    }
   ],
   "source": [
    "# to view the new entry\n",
    "curr.execute(querry)\n",
    "results= curr.fetchone()\n",
    "print(results)"
   ]
  },
  {
   "cell_type": "code",
   "execution_count": 35,
   "id": "97c17a43",
   "metadata": {},
   "outputs": [
    {
     "data": {
      "text/html": [
       "<div>\n",
       "<style scoped>\n",
       "    .dataframe tbody tr th:only-of-type {\n",
       "        vertical-align: middle;\n",
       "    }\n",
       "\n",
       "    .dataframe tbody tr th {\n",
       "        vertical-align: top;\n",
       "    }\n",
       "\n",
       "    .dataframe thead th {\n",
       "        text-align: right;\n",
       "    }\n",
       "</style>\n",
       "<table border=\"1\" class=\"dataframe\">\n",
       "  <thead>\n",
       "    <tr style=\"text-align: right;\">\n",
       "      <th></th>\n",
       "      <th>Athlete_Bio_id</th>\n",
       "      <th>Athlete_id</th>\n",
       "      <th>name</th>\n",
       "      <th>sex</th>\n",
       "      <th>born</th>\n",
       "      <th>height</th>\n",
       "      <th>weight</th>\n",
       "      <th>country</th>\n",
       "      <th>country_noc</th>\n",
       "      <th>description</th>\n",
       "      <th>special_notes</th>\n",
       "    </tr>\n",
       "  </thead>\n",
       "  <tbody>\n",
       "    <tr>\n",
       "      <th>0</th>\n",
       "      <td>1</td>\n",
       "      <td>16809</td>\n",
       "      <td>Károly Teppert</td>\n",
       "      <td>Male</td>\n",
       "      <td>1891-07-20</td>\n",
       "      <td>na</td>\n",
       "      <td>na</td>\n",
       "      <td>Hungary</td>\n",
       "      <td>HUN</td>\n",
       "      <td>Károly Teppert started competing in cycling in...</td>\n",
       "      <td>na</td>\n",
       "    </tr>\n",
       "    <tr>\n",
       "      <th>1</th>\n",
       "      <td>2</td>\n",
       "      <td>43737</td>\n",
       "      <td>Andrzej Socharski</td>\n",
       "      <td>Male</td>\n",
       "      <td>1947-08-31</td>\n",
       "      <td>173</td>\n",
       "      <td>72</td>\n",
       "      <td>Poland</td>\n",
       "      <td>POL</td>\n",
       "      <td>na</td>\n",
       "      <td>Listed in Olympians Who Won a Medal at the Wor...</td>\n",
       "    </tr>\n",
       "    <tr>\n",
       "      <th>2</th>\n",
       "      <td>3</td>\n",
       "      <td>50147</td>\n",
       "      <td>Nathalie Wunderlich</td>\n",
       "      <td>Female</td>\n",
       "      <td>1971-06-03</td>\n",
       "      <td>170</td>\n",
       "      <td>50</td>\n",
       "      <td>Switzerland</td>\n",
       "      <td>SUI</td>\n",
       "      <td>na</td>\n",
       "      <td>na</td>\n",
       "    </tr>\n",
       "    <tr>\n",
       "      <th>3</th>\n",
       "      <td>4</td>\n",
       "      <td>5085</td>\n",
       "      <td>Miha Lokar</td>\n",
       "      <td>Male</td>\n",
       "      <td>1935-09-10</td>\n",
       "      <td>182</td>\n",
       "      <td>76</td>\n",
       "      <td>Yugoslavia</td>\n",
       "      <td>YUG</td>\n",
       "      <td>na</td>\n",
       "      <td>Listed in Olympians Who Won a Medal at the Eur...</td>\n",
       "    </tr>\n",
       "    <tr>\n",
       "      <th>4</th>\n",
       "      <td>5</td>\n",
       "      <td>136329</td>\n",
       "      <td>Austin Hack</td>\n",
       "      <td>Male</td>\n",
       "      <td>1992-05-17</td>\n",
       "      <td>203</td>\n",
       "      <td>100</td>\n",
       "      <td>United States</td>\n",
       "      <td>USA</td>\n",
       "      <td>na</td>\n",
       "      <td>na</td>\n",
       "    </tr>\n",
       "  </tbody>\n",
       "</table>\n",
       "</div>"
      ],
      "text/plain": [
       "   Athlete_Bio_id  Athlete_id                 name     sex       born height  \\\n",
       "0               1       16809       Károly Teppert    Male 1891-07-20     na   \n",
       "1               2       43737    Andrzej Socharski    Male 1947-08-31    173   \n",
       "2               3       50147  Nathalie Wunderlich  Female 1971-06-03    170   \n",
       "3               4        5085           Miha Lokar    Male 1935-09-10    182   \n",
       "4               5      136329          Austin Hack    Male 1992-05-17    203   \n",
       "\n",
       "  weight         country country_noc  \\\n",
       "0     na         Hungary         HUN   \n",
       "1     72          Poland         POL   \n",
       "2     50     Switzerland         SUI   \n",
       "3     76      Yugoslavia         YUG   \n",
       "4    100   United States         USA   \n",
       "\n",
       "                                         description  \\\n",
       "0  Károly Teppert started competing in cycling in...   \n",
       "1                                                 na   \n",
       "2                                                 na   \n",
       "3                                                 na   \n",
       "4                                                 na   \n",
       "\n",
       "                                       special_notes  \n",
       "0                                                 na  \n",
       "1  Listed in Olympians Who Won a Medal at the Wor...  \n",
       "2                                                 na  \n",
       "3  Listed in Olympians Who Won a Medal at the Eur...  \n",
       "4                                                 na  "
      ]
     },
     "execution_count": 35,
     "metadata": {},
     "output_type": "execute_result"
    }
   ],
   "source": [
    "# connecting sql to pandas to view\n",
    "sql_DF_Bio=pd.read_sql_query(querry,connector,parse_dates=[\"born\"])\n",
    "sql_DF_Bio.head()"
   ]
  },
  {
   "cell_type": "code",
   "execution_count": 36,
   "id": "e3463024",
   "metadata": {},
   "outputs": [
    {
     "data": {
      "text/html": [
       "<div>\n",
       "<style scoped>\n",
       "    .dataframe tbody tr th:only-of-type {\n",
       "        vertical-align: middle;\n",
       "    }\n",
       "\n",
       "    .dataframe tbody tr th {\n",
       "        vertical-align: top;\n",
       "    }\n",
       "\n",
       "    .dataframe thead th {\n",
       "        text-align: right;\n",
       "    }\n",
       "</style>\n",
       "<table border=\"1\" class=\"dataframe\">\n",
       "  <thead>\n",
       "    <tr style=\"text-align: right;\">\n",
       "      <th></th>\n",
       "      <th>s/n</th>\n",
       "      <th>edition</th>\n",
       "      <th>edition_id</th>\n",
       "      <th>country_noc</th>\n",
       "      <th>sport</th>\n",
       "      <th>event</th>\n",
       "      <th>result_id</th>\n",
       "      <th>athlete</th>\n",
       "      <th>athlete_id</th>\n",
       "      <th>pos</th>\n",
       "      <th>medal</th>\n",
       "      <th>isTeamSport</th>\n",
       "    </tr>\n",
       "  </thead>\n",
       "  <tbody>\n",
       "    <tr>\n",
       "      <th>0</th>\n",
       "      <td>1</td>\n",
       "      <td>1908 Summer Olympics</td>\n",
       "      <td>5</td>\n",
       "      <td>ANZ</td>\n",
       "      <td>Athletics</td>\n",
       "      <td>100 metres, Men</td>\n",
       "      <td>56265</td>\n",
       "      <td>Ernest Hutcheon</td>\n",
       "      <td>64710</td>\n",
       "      <td>DNS</td>\n",
       "      <td>na</td>\n",
       "      <td>False</td>\n",
       "    </tr>\n",
       "    <tr>\n",
       "      <th>1</th>\n",
       "      <td>2</td>\n",
       "      <td>1908 Summer Olympics</td>\n",
       "      <td>5</td>\n",
       "      <td>ANZ</td>\n",
       "      <td>Athletics</td>\n",
       "      <td>400 metres, Men</td>\n",
       "      <td>56313</td>\n",
       "      <td>Henry Murray</td>\n",
       "      <td>64756</td>\n",
       "      <td>DNS</td>\n",
       "      <td>na</td>\n",
       "      <td>False</td>\n",
       "    </tr>\n",
       "    <tr>\n",
       "      <th>2</th>\n",
       "      <td>3</td>\n",
       "      <td>1908 Summer Olympics</td>\n",
       "      <td>5</td>\n",
       "      <td>ANZ</td>\n",
       "      <td>Athletics</td>\n",
       "      <td>800 metres, Men</td>\n",
       "      <td>56338</td>\n",
       "      <td>Harvey Sutton</td>\n",
       "      <td>64808</td>\n",
       "      <td>3 h8 r1/2</td>\n",
       "      <td>na</td>\n",
       "      <td>False</td>\n",
       "    </tr>\n",
       "    <tr>\n",
       "      <th>3</th>\n",
       "      <td>4</td>\n",
       "      <td>1908 Summer Olympics</td>\n",
       "      <td>5</td>\n",
       "      <td>ANZ</td>\n",
       "      <td>Athletics</td>\n",
       "      <td>800 metres, Men</td>\n",
       "      <td>56338</td>\n",
       "      <td>Guy Haskins</td>\n",
       "      <td>922519</td>\n",
       "      <td>DNS</td>\n",
       "      <td>na</td>\n",
       "      <td>False</td>\n",
       "    </tr>\n",
       "    <tr>\n",
       "      <th>4</th>\n",
       "      <td>5</td>\n",
       "      <td>1908 Summer Olympics</td>\n",
       "      <td>5</td>\n",
       "      <td>ANZ</td>\n",
       "      <td>Athletics</td>\n",
       "      <td>800 metres, Men</td>\n",
       "      <td>56338</td>\n",
       "      <td>Joseph Lynch</td>\n",
       "      <td>64735</td>\n",
       "      <td>DNS</td>\n",
       "      <td>na</td>\n",
       "      <td>False</td>\n",
       "    </tr>\n",
       "  </tbody>\n",
       "</table>\n",
       "</div>"
      ],
      "text/plain": [
       "   s/n               edition  edition_id country_noc      sport  \\\n",
       "0    1  1908 Summer Olympics           5         ANZ  Athletics   \n",
       "1    2  1908 Summer Olympics           5         ANZ  Athletics   \n",
       "2    3  1908 Summer Olympics           5         ANZ  Athletics   \n",
       "3    4  1908 Summer Olympics           5         ANZ  Athletics   \n",
       "4    5  1908 Summer Olympics           5         ANZ  Athletics   \n",
       "\n",
       "             event  result_id          athlete  athlete_id        pos medal  \\\n",
       "0  100 metres, Men      56265  Ernest Hutcheon       64710        DNS    na   \n",
       "1  400 metres, Men      56313     Henry Murray       64756        DNS    na   \n",
       "2  800 metres, Men      56338    Harvey Sutton       64808  3 h8 r1/2    na   \n",
       "3  800 metres, Men      56338      Guy Haskins      922519        DNS    na   \n",
       "4  800 metres, Men      56338     Joseph Lynch       64735        DNS    na   \n",
       "\n",
       "   isTeamSport  \n",
       "0        False  \n",
       "1        False  \n",
       "2        False  \n",
       "3        False  \n",
       "4        False  "
      ]
     },
     "execution_count": 36,
     "metadata": {},
     "output_type": "execute_result"
    }
   ],
   "source": [
    "# View the Event dataset\n",
    "df_Event.head()"
   ]
  },
  {
   "cell_type": "code",
   "execution_count": 37,
   "id": "7b678921",
   "metadata": {},
   "outputs": [
    {
     "name": "stdout",
     "output_type": "stream",
     "text": [
      "<class 'pandas.core.frame.DataFrame'>\n",
      "RangeIndex: 314907 entries, 0 to 314906\n",
      "Data columns (total 12 columns):\n",
      " #   Column       Non-Null Count   Dtype \n",
      "---  ------       --------------   ----- \n",
      " 0   s/n          314907 non-null  int64 \n",
      " 1   edition      314907 non-null  object\n",
      " 2   edition_id   314907 non-null  int64 \n",
      " 3   country_noc  314907 non-null  object\n",
      " 4   sport        314907 non-null  object\n",
      " 5   event        314907 non-null  object\n",
      " 6   result_id    314907 non-null  int64 \n",
      " 7   athlete      314907 non-null  object\n",
      " 8   athlete_id   314907 non-null  int64 \n",
      " 9   pos          314907 non-null  object\n",
      " 10  medal        314907 non-null  object\n",
      " 11  isTeamSport  314907 non-null  bool  \n",
      "dtypes: bool(1), int64(4), object(7)\n",
      "memory usage: 26.7+ MB\n"
     ]
    }
   ],
   "source": [
    "df_Event.info()"
   ]
  },
  {
   "cell_type": "code",
   "execution_count": 38,
   "id": "2a2542de",
   "metadata": {},
   "outputs": [
    {
     "data": {
      "text/plain": [
       "Index(['s/n', 'edition', 'edition_id', 'country_noc', 'sport', 'event',\n",
       "       'result_id', 'athlete', 'athlete_id', 'pos', 'medal', 'isTeamSport'],\n",
       "      dtype='object')"
      ]
     },
     "execution_count": 38,
     "metadata": {},
     "output_type": "execute_result"
    }
   ],
   "source": [
    "df_Event.columns"
   ]
  },
  {
   "cell_type": "code",
   "execution_count": 39,
   "id": "6587f882",
   "metadata": {},
   "outputs": [
    {
     "data": {
      "text/plain": [
       "<sqlite3.Cursor at 0x29137372420>"
      ]
     },
     "execution_count": 39,
     "metadata": {},
     "output_type": "execute_result"
    }
   ],
   "source": [
    "# if the table is already exists to drop the table\n",
    "querry=\"DROP TABLE IF EXISTS  Athlete_Events;\"\n",
    "curr.execute(querry)"
   ]
  },
  {
   "cell_type": "code",
   "execution_count": 42,
   "id": "71dc1af6",
   "metadata": {},
   "outputs": [],
   "source": [
    "query=  \"\"\"CREATE TABLE Athlete_Events(\n",
    "    Event_ID int(6) Primary Key,\n",
    "    edition char(50),\n",
    "    edition_id int(5),\n",
    "    country_noc text(5),\n",
    "    sport text(20),\n",
    "    event char(20),\n",
    "    result_id int(20),\n",
    "    athlete text(50),\n",
    "    athlete_id  int(50),\n",
    "    pos varchar(10),\n",
    "    medal text(10),\n",
    "    isTeamSport text(10),\n",
    "    FOREIGN KEY (athlete_id) REFERENCES Athlete_Bio (Athlete_id),\n",
    "    FOREIGN KEY (athlete) REFERENCES Athlete_Bio (name)\n",
    " )\"\"\""
   ]
  },
  {
   "cell_type": "code",
   "execution_count": 43,
   "id": "b5a39bb9",
   "metadata": {},
   "outputs": [
    {
     "data": {
      "text/plain": [
       "<sqlite3.Cursor at 0x29137372420>"
      ]
     },
     "execution_count": 43,
     "metadata": {},
     "output_type": "execute_result"
    }
   ],
   "source": [
    "curr.execute(query)"
   ]
  },
  {
   "cell_type": "code",
   "execution_count": null,
   "id": "0a6d2891",
   "metadata": {},
   "outputs": [],
   "source": []
  },
  {
   "cell_type": "code",
   "execution_count": 44,
   "id": "761cd562",
   "metadata": {},
   "outputs": [
    {
     "data": {
      "text/plain": [
       "(314907, 12)"
      ]
     },
     "execution_count": 44,
     "metadata": {},
     "output_type": "execute_result"
    }
   ],
   "source": [
    "df_Event_Tuple=tuple(df_Event.itertuples(index=False,name=None))\n",
    "df_Event.shape"
   ]
  },
  {
   "cell_type": "code",
   "execution_count": 45,
   "id": "fecb7289",
   "metadata": {},
   "outputs": [],
   "source": [
    "insertQuery=\"\"\"INSERT into  Athlete_Events values(?,?,?,?,?,?,?,?,?,?,?,?)\"\"\""
   ]
  },
  {
   "cell_type": "code",
   "execution_count": 46,
   "id": "290fb68e",
   "metadata": {},
   "outputs": [
    {
     "data": {
      "text/plain": [
       "<sqlite3.Cursor at 0x29137372420>"
      ]
     },
     "execution_count": 46,
     "metadata": {},
     "output_type": "execute_result"
    }
   ],
   "source": [
    "curr.executemany(insertQuery,df_Event_Tuple)"
   ]
  },
  {
   "cell_type": "code",
   "execution_count": 47,
   "id": "6938bb29",
   "metadata": {},
   "outputs": [],
   "source": [
    "# Remember to commit the transaction after executing INSERT.\n",
    "connector.commit()"
   ]
  },
  {
   "cell_type": "code",
   "execution_count": 52,
   "id": "56b28371",
   "metadata": {},
   "outputs": [
    {
     "name": "stdout",
     "output_type": "stream",
     "text": [
      "(1, '1908 Summer Olympics', 5, 'ANZ', 'Athletics', '100 metres, Men', 56265, 'Ernest Hutcheon', 64710, 'DNS', 'na', '0')\n"
     ]
    }
   ],
   "source": [
    "querry=\"select * from Athlete_Events\"\n",
    "\n",
    "curr.execute(querry)\n",
    "results= curr.fetchone()\n",
    "print(results)"
   ]
  },
  {
   "cell_type": "code",
   "execution_count": 54,
   "id": "07b349ac",
   "metadata": {},
   "outputs": [
    {
     "data": {
      "text/html": [
       "<div>\n",
       "<style scoped>\n",
       "    .dataframe tbody tr th:only-of-type {\n",
       "        vertical-align: middle;\n",
       "    }\n",
       "\n",
       "    .dataframe tbody tr th {\n",
       "        vertical-align: top;\n",
       "    }\n",
       "\n",
       "    .dataframe thead th {\n",
       "        text-align: right;\n",
       "    }\n",
       "</style>\n",
       "<table border=\"1\" class=\"dataframe\">\n",
       "  <thead>\n",
       "    <tr style=\"text-align: right;\">\n",
       "      <th></th>\n",
       "      <th>Event_ID</th>\n",
       "      <th>edition</th>\n",
       "      <th>edition_id</th>\n",
       "      <th>country_noc</th>\n",
       "      <th>sport</th>\n",
       "      <th>event</th>\n",
       "      <th>result_id</th>\n",
       "      <th>athlete</th>\n",
       "      <th>athlete_id</th>\n",
       "      <th>pos</th>\n",
       "      <th>medal</th>\n",
       "      <th>isTeamSport</th>\n",
       "    </tr>\n",
       "  </thead>\n",
       "  <tbody>\n",
       "    <tr>\n",
       "      <th>0</th>\n",
       "      <td>1</td>\n",
       "      <td>1908 Summer Olympics</td>\n",
       "      <td>5</td>\n",
       "      <td>ANZ</td>\n",
       "      <td>Athletics</td>\n",
       "      <td>100 metres, Men</td>\n",
       "      <td>56265</td>\n",
       "      <td>Ernest Hutcheon</td>\n",
       "      <td>64710</td>\n",
       "      <td>DNS</td>\n",
       "      <td>na</td>\n",
       "      <td>0</td>\n",
       "    </tr>\n",
       "    <tr>\n",
       "      <th>1</th>\n",
       "      <td>2</td>\n",
       "      <td>1908 Summer Olympics</td>\n",
       "      <td>5</td>\n",
       "      <td>ANZ</td>\n",
       "      <td>Athletics</td>\n",
       "      <td>400 metres, Men</td>\n",
       "      <td>56313</td>\n",
       "      <td>Henry Murray</td>\n",
       "      <td>64756</td>\n",
       "      <td>DNS</td>\n",
       "      <td>na</td>\n",
       "      <td>0</td>\n",
       "    </tr>\n",
       "    <tr>\n",
       "      <th>2</th>\n",
       "      <td>3</td>\n",
       "      <td>1908 Summer Olympics</td>\n",
       "      <td>5</td>\n",
       "      <td>ANZ</td>\n",
       "      <td>Athletics</td>\n",
       "      <td>800 metres, Men</td>\n",
       "      <td>56338</td>\n",
       "      <td>Harvey Sutton</td>\n",
       "      <td>64808</td>\n",
       "      <td>3 h8 r1/2</td>\n",
       "      <td>na</td>\n",
       "      <td>0</td>\n",
       "    </tr>\n",
       "    <tr>\n",
       "      <th>3</th>\n",
       "      <td>4</td>\n",
       "      <td>1908 Summer Olympics</td>\n",
       "      <td>5</td>\n",
       "      <td>ANZ</td>\n",
       "      <td>Athletics</td>\n",
       "      <td>800 metres, Men</td>\n",
       "      <td>56338</td>\n",
       "      <td>Guy Haskins</td>\n",
       "      <td>922519</td>\n",
       "      <td>DNS</td>\n",
       "      <td>na</td>\n",
       "      <td>0</td>\n",
       "    </tr>\n",
       "    <tr>\n",
       "      <th>4</th>\n",
       "      <td>5</td>\n",
       "      <td>1908 Summer Olympics</td>\n",
       "      <td>5</td>\n",
       "      <td>ANZ</td>\n",
       "      <td>Athletics</td>\n",
       "      <td>800 metres, Men</td>\n",
       "      <td>56338</td>\n",
       "      <td>Joseph Lynch</td>\n",
       "      <td>64735</td>\n",
       "      <td>DNS</td>\n",
       "      <td>na</td>\n",
       "      <td>0</td>\n",
       "    </tr>\n",
       "  </tbody>\n",
       "</table>\n",
       "</div>"
      ],
      "text/plain": [
       "   Event_ID               edition  edition_id country_noc      sport  \\\n",
       "0         1  1908 Summer Olympics           5         ANZ  Athletics   \n",
       "1         2  1908 Summer Olympics           5         ANZ  Athletics   \n",
       "2         3  1908 Summer Olympics           5         ANZ  Athletics   \n",
       "3         4  1908 Summer Olympics           5         ANZ  Athletics   \n",
       "4         5  1908 Summer Olympics           5         ANZ  Athletics   \n",
       "\n",
       "             event  result_id          athlete  athlete_id        pos medal  \\\n",
       "0  100 metres, Men      56265  Ernest Hutcheon       64710        DNS    na   \n",
       "1  400 metres, Men      56313     Henry Murray       64756        DNS    na   \n",
       "2  800 metres, Men      56338    Harvey Sutton       64808  3 h8 r1/2    na   \n",
       "3  800 metres, Men      56338      Guy Haskins      922519        DNS    na   \n",
       "4  800 metres, Men      56338     Joseph Lynch       64735        DNS    na   \n",
       "\n",
       "  isTeamSport  \n",
       "0           0  \n",
       "1           0  \n",
       "2           0  \n",
       "3           0  \n",
       "4           0  "
      ]
     },
     "execution_count": 54,
     "metadata": {},
     "output_type": "execute_result"
    }
   ],
   "source": [
    "sql_DF_Events=pd.read_sql_query(querry,connector)\n",
    "sql_DF_Events.head()"
   ]
  },
  {
   "cell_type": "code",
   "execution_count": 56,
   "id": "ad60c978",
   "metadata": {},
   "outputs": [
    {
     "data": {
      "text/html": [
       "<div>\n",
       "<style scoped>\n",
       "    .dataframe tbody tr th:only-of-type {\n",
       "        vertical-align: middle;\n",
       "    }\n",
       "\n",
       "    .dataframe tbody tr th {\n",
       "        vertical-align: top;\n",
       "    }\n",
       "\n",
       "    .dataframe thead th {\n",
       "        text-align: right;\n",
       "    }\n",
       "</style>\n",
       "<table border=\"1\" class=\"dataframe\">\n",
       "  <thead>\n",
       "    <tr style=\"text-align: right;\">\n",
       "      <th></th>\n",
       "      <th>s/n</th>\n",
       "      <th>edition</th>\n",
       "      <th>edition_id</th>\n",
       "      <th>year</th>\n",
       "      <th>country</th>\n",
       "      <th>country_noc</th>\n",
       "      <th>gold</th>\n",
       "      <th>silver</th>\n",
       "      <th>bronze</th>\n",
       "      <th>total</th>\n",
       "    </tr>\n",
       "  </thead>\n",
       "  <tbody>\n",
       "    <tr>\n",
       "      <th>0</th>\n",
       "      <td>1</td>\n",
       "      <td>1896 Summer Olympics</td>\n",
       "      <td>1</td>\n",
       "      <td>1896</td>\n",
       "      <td>United States</td>\n",
       "      <td>USA</td>\n",
       "      <td>11</td>\n",
       "      <td>7</td>\n",
       "      <td>2</td>\n",
       "      <td>20</td>\n",
       "    </tr>\n",
       "    <tr>\n",
       "      <th>1</th>\n",
       "      <td>2</td>\n",
       "      <td>1896 Summer Olympics</td>\n",
       "      <td>1</td>\n",
       "      <td>1896</td>\n",
       "      <td>Greece</td>\n",
       "      <td>GRE</td>\n",
       "      <td>10</td>\n",
       "      <td>18</td>\n",
       "      <td>19</td>\n",
       "      <td>47</td>\n",
       "    </tr>\n",
       "    <tr>\n",
       "      <th>2</th>\n",
       "      <td>3</td>\n",
       "      <td>1896 Summer Olympics</td>\n",
       "      <td>1</td>\n",
       "      <td>1896</td>\n",
       "      <td>Germany</td>\n",
       "      <td>GER</td>\n",
       "      <td>6</td>\n",
       "      <td>5</td>\n",
       "      <td>2</td>\n",
       "      <td>13</td>\n",
       "    </tr>\n",
       "    <tr>\n",
       "      <th>3</th>\n",
       "      <td>4</td>\n",
       "      <td>1896 Summer Olympics</td>\n",
       "      <td>1</td>\n",
       "      <td>1896</td>\n",
       "      <td>France</td>\n",
       "      <td>FRA</td>\n",
       "      <td>5</td>\n",
       "      <td>4</td>\n",
       "      <td>2</td>\n",
       "      <td>11</td>\n",
       "    </tr>\n",
       "    <tr>\n",
       "      <th>4</th>\n",
       "      <td>5</td>\n",
       "      <td>1896 Summer Olympics</td>\n",
       "      <td>1</td>\n",
       "      <td>1896</td>\n",
       "      <td>Great Britain</td>\n",
       "      <td>GBR</td>\n",
       "      <td>2</td>\n",
       "      <td>3</td>\n",
       "      <td>2</td>\n",
       "      <td>7</td>\n",
       "    </tr>\n",
       "  </tbody>\n",
       "</table>\n",
       "</div>"
      ],
      "text/plain": [
       "   s/n               edition  edition_id  year        country country_noc  \\\n",
       "0    1  1896 Summer Olympics           1  1896  United States         USA   \n",
       "1    2  1896 Summer Olympics           1  1896         Greece         GRE   \n",
       "2    3  1896 Summer Olympics           1  1896        Germany         GER   \n",
       "3    4  1896 Summer Olympics           1  1896         France         FRA   \n",
       "4    5  1896 Summer Olympics           1  1896  Great Britain         GBR   \n",
       "\n",
       "   gold  silver  bronze  total  \n",
       "0    11       7       2     20  \n",
       "1    10      18      19     47  \n",
       "2     6       5       2     13  \n",
       "3     5       4       2     11  \n",
       "4     2       3       2      7  "
      ]
     },
     "execution_count": 56,
     "metadata": {},
     "output_type": "execute_result"
    }
   ],
   "source": [
    "df_Medal.head()"
   ]
  },
  {
   "cell_type": "code",
   "execution_count": 55,
   "id": "1966d3d4",
   "metadata": {},
   "outputs": [
    {
     "name": "stdout",
     "output_type": "stream",
     "text": [
      "<class 'pandas.core.frame.DataFrame'>\n",
      "RangeIndex: 1779 entries, 0 to 1778\n",
      "Data columns (total 10 columns):\n",
      " #   Column       Non-Null Count  Dtype \n",
      "---  ------       --------------  ----- \n",
      " 0   s/n          1779 non-null   int64 \n",
      " 1   edition      1779 non-null   object\n",
      " 2   edition_id   1779 non-null   int64 \n",
      " 3   year         1779 non-null   int64 \n",
      " 4   country      1779 non-null   object\n",
      " 5   country_noc  1779 non-null   object\n",
      " 6   gold         1779 non-null   int64 \n",
      " 7   silver       1779 non-null   int64 \n",
      " 8   bronze       1779 non-null   int64 \n",
      " 9   total        1779 non-null   int64 \n",
      "dtypes: int64(7), object(3)\n",
      "memory usage: 139.1+ KB\n"
     ]
    }
   ],
   "source": [
    "df_Medal.info()"
   ]
  },
  {
   "cell_type": "code",
   "execution_count": 57,
   "id": "2a50e2e1",
   "metadata": {},
   "outputs": [
    {
     "data": {
      "text/plain": [
       "<sqlite3.Cursor at 0x29137372420>"
      ]
     },
     "execution_count": 57,
     "metadata": {},
     "output_type": "execute_result"
    }
   ],
   "source": [
    "querry=\"DROP TABLE IF EXISTS  Games_Medal_Rally;\"\n",
    "curr.execute(querry)"
   ]
  },
  {
   "cell_type": "code",
   "execution_count": 60,
   "id": "8fa0be29",
   "metadata": {},
   "outputs": [],
   "source": [
    "query=\"\"\"CREATE TABLE Games_Medal_Rally(\n",
    "    Medal_ID int(5) Primary Key,\n",
    "    edition char(50),\n",
    "    edition_id int(5),\n",
    "    year char(4),\n",
    "    country text(50),\n",
    "    country_noc text(5),\n",
    "    gold int(5),\n",
    "    silver int(5),\n",
    "     bronze int(5),\n",
    "     total int (5),\n",
    "    FOREIGN KEY ( edition_id) REFERENCES Athlete_Events_Results(edition_id)\n",
    "     )\"\"\""
   ]
  },
  {
   "cell_type": "code",
   "execution_count": 61,
   "id": "1816d0dc",
   "metadata": {},
   "outputs": [
    {
     "data": {
      "text/plain": [
       "<sqlite3.Cursor at 0x29137372420>"
      ]
     },
     "execution_count": 61,
     "metadata": {},
     "output_type": "execute_result"
    }
   ],
   "source": [
    "curr.execute(query)"
   ]
  },
  {
   "cell_type": "code",
   "execution_count": 62,
   "id": "532a1095",
   "metadata": {},
   "outputs": [
    {
     "data": {
      "text/plain": [
       "(1779, 10)"
      ]
     },
     "execution_count": 62,
     "metadata": {},
     "output_type": "execute_result"
    }
   ],
   "source": [
    "df_Medal_Tuple=tuple(df_Medal.itertuples(index=False,name=None))\n",
    "df_Medal.shape"
   ]
  },
  {
   "cell_type": "code",
   "execution_count": 63,
   "id": "490862ad",
   "metadata": {},
   "outputs": [],
   "source": [
    "insertQuery=\"\"\"INSERT into Games_Medal_Rally values(?,?,?,?,?,?,?,?,?,?) \"\"\""
   ]
  },
  {
   "cell_type": "code",
   "execution_count": 64,
   "id": "be7f228c",
   "metadata": {},
   "outputs": [
    {
     "data": {
      "text/plain": [
       "<sqlite3.Cursor at 0x29137372420>"
      ]
     },
     "execution_count": 64,
     "metadata": {},
     "output_type": "execute_result"
    }
   ],
   "source": [
    "curr.executemany(insertQuery,df_Medal_Tuple)"
   ]
  },
  {
   "cell_type": "code",
   "execution_count": 68,
   "id": "49147abc",
   "metadata": {},
   "outputs": [
    {
     "name": "stdout",
     "output_type": "stream",
     "text": [
      "(1, '1896 Summer Olympics', 1, '1896', 'United States', 'USA', 11, 7, 2, 20)\n"
     ]
    }
   ],
   "source": [
    "querry=\"SELECT * From  Games_Medal_Rally\"\n",
    "curr.execute(querry)\n",
    "results= curr.fetchone()\n",
    "print(results)"
   ]
  },
  {
   "cell_type": "code",
   "execution_count": 69,
   "id": "9d769a12",
   "metadata": {},
   "outputs": [
    {
     "data": {
      "text/html": [
       "<div>\n",
       "<style scoped>\n",
       "    .dataframe tbody tr th:only-of-type {\n",
       "        vertical-align: middle;\n",
       "    }\n",
       "\n",
       "    .dataframe tbody tr th {\n",
       "        vertical-align: top;\n",
       "    }\n",
       "\n",
       "    .dataframe thead th {\n",
       "        text-align: right;\n",
       "    }\n",
       "</style>\n",
       "<table border=\"1\" class=\"dataframe\">\n",
       "  <thead>\n",
       "    <tr style=\"text-align: right;\">\n",
       "      <th></th>\n",
       "      <th>Medal_ID</th>\n",
       "      <th>edition</th>\n",
       "      <th>edition_id</th>\n",
       "      <th>year</th>\n",
       "      <th>country</th>\n",
       "      <th>country_noc</th>\n",
       "      <th>gold</th>\n",
       "      <th>silver</th>\n",
       "      <th>bronze</th>\n",
       "      <th>total</th>\n",
       "    </tr>\n",
       "  </thead>\n",
       "  <tbody>\n",
       "    <tr>\n",
       "      <th>0</th>\n",
       "      <td>1</td>\n",
       "      <td>1896 Summer Olympics</td>\n",
       "      <td>1</td>\n",
       "      <td>1896</td>\n",
       "      <td>United States</td>\n",
       "      <td>USA</td>\n",
       "      <td>11</td>\n",
       "      <td>7</td>\n",
       "      <td>2</td>\n",
       "      <td>20</td>\n",
       "    </tr>\n",
       "    <tr>\n",
       "      <th>1</th>\n",
       "      <td>2</td>\n",
       "      <td>1896 Summer Olympics</td>\n",
       "      <td>1</td>\n",
       "      <td>1896</td>\n",
       "      <td>Greece</td>\n",
       "      <td>GRE</td>\n",
       "      <td>10</td>\n",
       "      <td>18</td>\n",
       "      <td>19</td>\n",
       "      <td>47</td>\n",
       "    </tr>\n",
       "    <tr>\n",
       "      <th>2</th>\n",
       "      <td>3</td>\n",
       "      <td>1896 Summer Olympics</td>\n",
       "      <td>1</td>\n",
       "      <td>1896</td>\n",
       "      <td>Germany</td>\n",
       "      <td>GER</td>\n",
       "      <td>6</td>\n",
       "      <td>5</td>\n",
       "      <td>2</td>\n",
       "      <td>13</td>\n",
       "    </tr>\n",
       "    <tr>\n",
       "      <th>3</th>\n",
       "      <td>4</td>\n",
       "      <td>1896 Summer Olympics</td>\n",
       "      <td>1</td>\n",
       "      <td>1896</td>\n",
       "      <td>France</td>\n",
       "      <td>FRA</td>\n",
       "      <td>5</td>\n",
       "      <td>4</td>\n",
       "      <td>2</td>\n",
       "      <td>11</td>\n",
       "    </tr>\n",
       "    <tr>\n",
       "      <th>4</th>\n",
       "      <td>5</td>\n",
       "      <td>1896 Summer Olympics</td>\n",
       "      <td>1</td>\n",
       "      <td>1896</td>\n",
       "      <td>Great Britain</td>\n",
       "      <td>GBR</td>\n",
       "      <td>2</td>\n",
       "      <td>3</td>\n",
       "      <td>2</td>\n",
       "      <td>7</td>\n",
       "    </tr>\n",
       "  </tbody>\n",
       "</table>\n",
       "</div>"
      ],
      "text/plain": [
       "   Medal_ID               edition  edition_id  year        country  \\\n",
       "0         1  1896 Summer Olympics           1  1896  United States   \n",
       "1         2  1896 Summer Olympics           1  1896         Greece   \n",
       "2         3  1896 Summer Olympics           1  1896        Germany   \n",
       "3         4  1896 Summer Olympics           1  1896         France   \n",
       "4         5  1896 Summer Olympics           1  1896  Great Britain   \n",
       "\n",
       "  country_noc  gold  silver  bronze  total  \n",
       "0         USA    11       7       2     20  \n",
       "1         GRE    10      18      19     47  \n",
       "2         GER     6       5       2     13  \n",
       "3         FRA     5       4       2     11  \n",
       "4         GBR     2       3       2      7  "
      ]
     },
     "execution_count": 69,
     "metadata": {},
     "output_type": "execute_result"
    }
   ],
   "source": [
    "sql_DF_Medal=pd.read_sql_query(querry,connector)\n",
    "sql_DF_Medal.head()"
   ]
  },
  {
   "cell_type": "code",
   "execution_count": null,
   "id": "4434166f",
   "metadata": {},
   "outputs": [],
   "source": []
  },
  {
   "cell_type": "code",
   "execution_count": 70,
   "id": "1f26d85b",
   "metadata": {},
   "outputs": [
    {
     "data": {
      "text/html": [
       "<div>\n",
       "<style scoped>\n",
       "    .dataframe tbody tr th:only-of-type {\n",
       "        vertical-align: middle;\n",
       "    }\n",
       "\n",
       "    .dataframe tbody tr th {\n",
       "        vertical-align: top;\n",
       "    }\n",
       "\n",
       "    .dataframe thead th {\n",
       "        text-align: right;\n",
       "    }\n",
       "</style>\n",
       "<table border=\"1\" class=\"dataframe\">\n",
       "  <thead>\n",
       "    <tr style=\"text-align: right;\">\n",
       "      <th></th>\n",
       "      <th>s/n</th>\n",
       "      <th>result_id</th>\n",
       "      <th>event_title</th>\n",
       "      <th>edition</th>\n",
       "      <th>edition_id</th>\n",
       "      <th>sport</th>\n",
       "      <th>sport_url</th>\n",
       "      <th>result_location</th>\n",
       "      <th>result_participants</th>\n",
       "      <th>result_format</th>\n",
       "      <th>result_detail</th>\n",
       "      <th>result_description</th>\n",
       "      <th>start_date</th>\n",
       "      <th>end_date</th>\n",
       "      <th>time</th>\n",
       "    </tr>\n",
       "  </thead>\n",
       "  <tbody>\n",
       "    <tr>\n",
       "      <th>0</th>\n",
       "      <td>1</td>\n",
       "      <td>9270</td>\n",
       "      <td>7 metres, 1907 Rating, Open</td>\n",
       "      <td>1920 Summer Olympics</td>\n",
       "      <td>7</td>\n",
       "      <td>Sailing</td>\n",
       "      <td>/editions/7/sports/SAL</td>\n",
       "      <td>Oostende</td>\n",
       "      <td>8 from 2 countries</td>\n",
       "      <td>Three races, with final places decided by tota...</td>\n",
       "      <td>na</td>\n",
       "      <td>There were two yachts competing.  Britain’s An...</td>\n",
       "      <td>7/7/1920</td>\n",
       "      <td>7/9/1920</td>\n",
       "      <td>na</td>\n",
       "    </tr>\n",
       "    <tr>\n",
       "      <th>1</th>\n",
       "      <td>2</td>\n",
       "      <td>29722</td>\n",
       "      <td>Featherweight (≤60 kilograms), Men</td>\n",
       "      <td>1980 Summer Olympics</td>\n",
       "      <td>20</td>\n",
       "      <td>Weightlifting</td>\n",
       "      <td>/editions/20/sports/WLF</td>\n",
       "      <td>Dvorets sporta Izmaylovo, Moskva</td>\n",
       "      <td>18 from 14 countries</td>\n",
       "      <td>Total of best lifts in snatch and clean &amp; jerk...</td>\n",
       "      <td>na</td>\n",
       "      <td>The favorite was likely Soviet Viktor Mazin wh...</td>\n",
       "      <td>7/22/1980</td>\n",
       "      <td>na</td>\n",
       "      <td>14:00-19:00</td>\n",
       "    </tr>\n",
       "    <tr>\n",
       "      <th>2</th>\n",
       "      <td>3</td>\n",
       "      <td>54126</td>\n",
       "      <td>Platform, Men</td>\n",
       "      <td>1948 Summer Olympics</td>\n",
       "      <td>12</td>\n",
       "      <td>Diving</td>\n",
       "      <td>/editions/12/sports/DIV</td>\n",
       "      <td>Wembley Arena, Wembley, London</td>\n",
       "      <td>25 from 15 countries</td>\n",
       "      <td>10 metre platform. Final round only. Four comp...</td>\n",
       "      <td>na</td>\n",
       "      <td>Sammy Lee won this event, leading in both the ...</td>\n",
       "      <td>8/4/1948</td>\n",
       "      <td>8/5/1948</td>\n",
       "      <td>na</td>\n",
       "    </tr>\n",
       "    <tr>\n",
       "      <th>3</th>\n",
       "      <td>4</td>\n",
       "      <td>4684</td>\n",
       "      <td>100 metres Backstroke, Men</td>\n",
       "      <td>1920 Summer Olympics</td>\n",
       "      <td>7</td>\n",
       "      <td>Swimming</td>\n",
       "      <td>/editions/7/sports/SWM</td>\n",
       "      <td>Zwemstadion van Antwerpen, Antwerpen</td>\n",
       "      <td>12 from 6 countries</td>\n",
       "      <td>na</td>\n",
       "      <td>na</td>\n",
       "      <td>Watten Paoa Kealoha set a world record of 1:14...</td>\n",
       "      <td>8/22/1920</td>\n",
       "      <td>8/23/1920</td>\n",
       "      <td>na</td>\n",
       "    </tr>\n",
       "    <tr>\n",
       "      <th>4</th>\n",
       "      <td>5</td>\n",
       "      <td>1465</td>\n",
       "      <td>Slalom, Men</td>\n",
       "      <td>2002 Winter Olympics</td>\n",
       "      <td>47</td>\n",
       "      <td>Alpine Skiing</td>\n",
       "      <td>/editions/47/sports/ALP</td>\n",
       "      <td>Park City Mountain Resort, Park City, Utah (Kn...</td>\n",
       "      <td>77 from 43 countries</td>\n",
       "      <td>Two runs, total time determined placement.</td>\n",
       "      <td>Jesse Hunt</td>\n",
       "      <td>The last few World Cups had gone to Austrian B...</td>\n",
       "      <td>2/23/2002</td>\n",
       "      <td>na</td>\n",
       "      <td>na</td>\n",
       "    </tr>\n",
       "  </tbody>\n",
       "</table>\n",
       "</div>"
      ],
      "text/plain": [
       "   s/n  result_id                         event_title               edition  \\\n",
       "0    1       9270         7 metres, 1907 Rating, Open  1920 Summer Olympics   \n",
       "1    2      29722  Featherweight (≤60 kilograms), Men  1980 Summer Olympics   \n",
       "2    3      54126                       Platform, Men  1948 Summer Olympics   \n",
       "3    4       4684          100 metres Backstroke, Men  1920 Summer Olympics   \n",
       "4    5       1465                         Slalom, Men  2002 Winter Olympics   \n",
       "\n",
       "   edition_id          sport                sport_url  \\\n",
       "0           7        Sailing   /editions/7/sports/SAL   \n",
       "1          20  Weightlifting  /editions/20/sports/WLF   \n",
       "2          12         Diving  /editions/12/sports/DIV   \n",
       "3           7       Swimming   /editions/7/sports/SWM   \n",
       "4          47  Alpine Skiing  /editions/47/sports/ALP   \n",
       "\n",
       "                                     result_location   result_participants  \\\n",
       "0                                           Oostende    8 from 2 countries   \n",
       "1                   Dvorets sporta Izmaylovo, Moskva  18 from 14 countries   \n",
       "2                     Wembley Arena, Wembley, London  25 from 15 countries   \n",
       "3               Zwemstadion van Antwerpen, Antwerpen   12 from 6 countries   \n",
       "4  Park City Mountain Resort, Park City, Utah (Kn...  77 from 43 countries   \n",
       "\n",
       "                                       result_format result_detail  \\\n",
       "0  Three races, with final places decided by tota...            na   \n",
       "1  Total of best lifts in snatch and clean & jerk...            na   \n",
       "2  10 metre platform. Final round only. Four comp...            na   \n",
       "3                                                 na            na   \n",
       "4         Two runs, total time determined placement.    Jesse Hunt   \n",
       "\n",
       "                                  result_description start_date   end_date  \\\n",
       "0  There were two yachts competing.  Britain’s An...   7/7/1920   7/9/1920   \n",
       "1  The favorite was likely Soviet Viktor Mazin wh...  7/22/1980         na   \n",
       "2  Sammy Lee won this event, leading in both the ...   8/4/1948   8/5/1948   \n",
       "3  Watten Paoa Kealoha set a world record of 1:14...  8/22/1920  8/23/1920   \n",
       "4  The last few World Cups had gone to Austrian B...  2/23/2002         na   \n",
       "\n",
       "          time  \n",
       "0           na  \n",
       "1  14:00-19:00  \n",
       "2           na  \n",
       "3           na  \n",
       "4           na  "
      ]
     },
     "execution_count": 70,
     "metadata": {},
     "output_type": "execute_result"
    }
   ],
   "source": [
    "df_Results.head()"
   ]
  },
  {
   "cell_type": "code",
   "execution_count": 71,
   "id": "8ffad504",
   "metadata": {},
   "outputs": [
    {
     "name": "stdout",
     "output_type": "stream",
     "text": [
      "<class 'pandas.core.frame.DataFrame'>\n",
      "RangeIndex: 7329 entries, 0 to 7328\n",
      "Data columns (total 15 columns):\n",
      " #   Column               Non-Null Count  Dtype \n",
      "---  ------               --------------  ----- \n",
      " 0   s/n                  7329 non-null   int64 \n",
      " 1   result_id            7329 non-null   int64 \n",
      " 2   event_title          7329 non-null   object\n",
      " 3   edition              7329 non-null   object\n",
      " 4   edition_id           7329 non-null   int64 \n",
      " 5   sport                7329 non-null   object\n",
      " 6   sport_url            7329 non-null   object\n",
      " 7   result_location      7329 non-null   object\n",
      " 8   result_participants  7329 non-null   object\n",
      " 9   result_format        7329 non-null   object\n",
      " 10  result_detail        7329 non-null   object\n",
      " 11  result_description   7329 non-null   object\n",
      " 12  start_date           7329 non-null   object\n",
      " 13  end_date             7329 non-null   object\n",
      " 14  time                 7329 non-null   object\n",
      "dtypes: int64(3), object(12)\n",
      "memory usage: 859.0+ KB\n"
     ]
    }
   ],
   "source": [
    "df_Results.info()\n"
   ]
  },
  {
   "cell_type": "code",
   "execution_count": 85,
   "id": "8772899a",
   "metadata": {},
   "outputs": [
    {
     "data": {
      "text/plain": [
       "7329"
      ]
     },
     "execution_count": 85,
     "metadata": {},
     "output_type": "execute_result"
    }
   ],
   "source": []
  },
  {
   "cell_type": "code",
   "execution_count": 84,
   "id": "ca52979e",
   "metadata": {},
   "outputs": [
    {
     "data": {
      "text/plain": [
       "<sqlite3.Cursor at 0x29137372420>"
      ]
     },
     "execution_count": 84,
     "metadata": {},
     "output_type": "execute_result"
    }
   ],
   "source": [
    "querry=\"DROP TABLE IF EXISTS  Results\"\n",
    "\n",
    "curr.execute(querry)"
   ]
  },
  {
   "cell_type": "code",
   "execution_count": 92,
   "id": "73176834",
   "metadata": {},
   "outputs": [],
   "source": [
    "querrry=(\"\"\" CREATE TABLE RESULTS(\n",
    "    RESLT_id int,\n",
    "    result_id int(6) Primary Key,\n",
    "    event_title  char(20),\n",
    "    edition char(50),\n",
    "    edition_id int(5),\n",
    "    sport varchar(15),\n",
    "    sport_url text(20),\n",
    "    result_location  text(50),\n",
    "    result_participants text(50),\n",
    "    result_format  text(50),\n",
    "    result_detail text(20),\n",
    "    result_description text(20),\n",
    "    start_date char(10),\n",
    "    end_date char(10),\n",
    "    time char(13),\n",
    "    FOREIGN KEY (edition_id) REFERENCES  Athlete_Events (edition_id),\n",
    "    FOREIGN KEY (edition_id) REFERENCES  Games (edition_id))\n",
    "    \n",
    "    \"\"\")"
   ]
  },
  {
   "cell_type": "code",
   "execution_count": 93,
   "id": "77541cd9",
   "metadata": {},
   "outputs": [
    {
     "data": {
      "text/plain": [
       "<sqlite3.Cursor at 0x29137372420>"
      ]
     },
     "execution_count": 93,
     "metadata": {},
     "output_type": "execute_result"
    }
   ],
   "source": [
    "curr.execute(querrry)"
   ]
  },
  {
   "cell_type": "code",
   "execution_count": 94,
   "id": "966f4a87",
   "metadata": {},
   "outputs": [
    {
     "data": {
      "text/plain": [
       "(7329, 15)"
      ]
     },
     "execution_count": 94,
     "metadata": {},
     "output_type": "execute_result"
    }
   ],
   "source": [
    "df_Results_Tuple=tuple(df_Results.itertuples(index=False,name=None))\n",
    "df_Results.shape"
   ]
  },
  {
   "cell_type": "code",
   "execution_count": 96,
   "id": "96c3328d",
   "metadata": {},
   "outputs": [],
   "source": [
    "insertQuery=\"\"\"INSERT into  RESULTS values(?,?,?,?,?,?,?,?,?,?,?,?,?,?,?)\"\"\""
   ]
  },
  {
   "cell_type": "code",
   "execution_count": 97,
   "id": "92e955d8",
   "metadata": {},
   "outputs": [
    {
     "data": {
      "text/plain": [
       "<sqlite3.Cursor at 0x29137372420>"
      ]
     },
     "execution_count": 97,
     "metadata": {},
     "output_type": "execute_result"
    }
   ],
   "source": [
    "curr.executemany(insertQuery,df_Results_Tuple)"
   ]
  },
  {
   "cell_type": "code",
   "execution_count": 98,
   "id": "f00a1dfb",
   "metadata": {},
   "outputs": [
    {
     "name": "stdout",
     "output_type": "stream",
     "text": [
      "(1, 9270, '7 metres, 1907 Rating, Open', '1920 Summer Olympics', 7, 'Sailing', '/editions/7/sports/SAL', 'Oostende', '8 from 2 countries', 'Three races, with final places decided by total points. Point-for-place scoring for each race.', 'na', 'There were two yachts competing.  Britain’s Ancora lost the first race to Norway’s Fornebo, but won the final two races to win the gold medal.\\n', '7/7/1920', '7/9/1920', 'na')\n"
     ]
    }
   ],
   "source": [
    "querry=\"select * from RESULTS\"\n",
    "curr.execute(querry)\n",
    "results= curr.fetchone()\n",
    "print(results)"
   ]
  },
  {
   "cell_type": "code",
   "execution_count": 99,
   "id": "76ec44de",
   "metadata": {},
   "outputs": [],
   "source": [
    "# Remember to commit the transaction after executing INSERT.\n",
    "connector.commit()"
   ]
  },
  {
   "cell_type": "code",
   "execution_count": 72,
   "id": "b17a7373",
   "metadata": {},
   "outputs": [
    {
     "data": {
      "text/plain": [
       "<sqlite3.Cursor at 0x29137372420>"
      ]
     },
     "execution_count": 72,
     "metadata": {},
     "output_type": "execute_result"
    }
   ],
   "source": [
    "querry=\"DROP TABLE IF EXISTS  Games\"\n",
    "curr.execute(querry)"
   ]
  },
  {
   "cell_type": "code",
   "execution_count": 100,
   "id": "079f94f0",
   "metadata": {},
   "outputs": [
    {
     "data": {
      "text/html": [
       "<div>\n",
       "<style scoped>\n",
       "    .dataframe tbody tr th:only-of-type {\n",
       "        vertical-align: middle;\n",
       "    }\n",
       "\n",
       "    .dataframe tbody tr th {\n",
       "        vertical-align: top;\n",
       "    }\n",
       "\n",
       "    .dataframe thead th {\n",
       "        text-align: right;\n",
       "    }\n",
       "</style>\n",
       "<table border=\"1\" class=\"dataframe\">\n",
       "  <thead>\n",
       "    <tr style=\"text-align: right;\">\n",
       "      <th></th>\n",
       "      <th>s/n</th>\n",
       "      <th>country_noc</th>\n",
       "      <th>country</th>\n",
       "    </tr>\n",
       "  </thead>\n",
       "  <tbody>\n",
       "    <tr>\n",
       "      <th>0</th>\n",
       "      <td>1</td>\n",
       "      <td>AFG</td>\n",
       "      <td>Afghanistan</td>\n",
       "    </tr>\n",
       "    <tr>\n",
       "      <th>1</th>\n",
       "      <td>2</td>\n",
       "      <td>ALB</td>\n",
       "      <td>Albania</td>\n",
       "    </tr>\n",
       "    <tr>\n",
       "      <th>2</th>\n",
       "      <td>3</td>\n",
       "      <td>ALG</td>\n",
       "      <td>Algeria</td>\n",
       "    </tr>\n",
       "    <tr>\n",
       "      <th>3</th>\n",
       "      <td>4</td>\n",
       "      <td>ASA</td>\n",
       "      <td>American Samoa</td>\n",
       "    </tr>\n",
       "    <tr>\n",
       "      <th>4</th>\n",
       "      <td>5</td>\n",
       "      <td>AND</td>\n",
       "      <td>Andorra</td>\n",
       "    </tr>\n",
       "    <tr>\n",
       "      <th>...</th>\n",
       "      <td>...</td>\n",
       "      <td>...</td>\n",
       "      <td>...</td>\n",
       "    </tr>\n",
       "    <tr>\n",
       "      <th>229</th>\n",
       "      <td>230</td>\n",
       "      <td>YEM</td>\n",
       "      <td>Yemen</td>\n",
       "    </tr>\n",
       "    <tr>\n",
       "      <th>230</th>\n",
       "      <td>231</td>\n",
       "      <td>YUG</td>\n",
       "      <td>Yugoslavia</td>\n",
       "    </tr>\n",
       "    <tr>\n",
       "      <th>231</th>\n",
       "      <td>232</td>\n",
       "      <td>ZAM</td>\n",
       "      <td>Zambia</td>\n",
       "    </tr>\n",
       "    <tr>\n",
       "      <th>232</th>\n",
       "      <td>233</td>\n",
       "      <td>ZIM</td>\n",
       "      <td>Zimbabwe</td>\n",
       "    </tr>\n",
       "    <tr>\n",
       "      <th>233</th>\n",
       "      <td>234</td>\n",
       "      <td>ROC</td>\n",
       "      <td>Russian Olympic Committee</td>\n",
       "    </tr>\n",
       "  </tbody>\n",
       "</table>\n",
       "<p>234 rows × 3 columns</p>\n",
       "</div>"
      ],
      "text/plain": [
       "     s/n country_noc                    country\n",
       "0      1         AFG                Afghanistan\n",
       "1      2         ALB                    Albania\n",
       "2      3         ALG                    Algeria\n",
       "3      4         ASA             American Samoa\n",
       "4      5         AND                    Andorra\n",
       "..   ...         ...                        ...\n",
       "229  230         YEM                      Yemen\n",
       "230  231         YUG                 Yugoslavia\n",
       "231  232         ZAM                     Zambia\n",
       "232  233         ZIM                   Zimbabwe\n",
       "233  234         ROC  Russian Olympic Committee\n",
       "\n",
       "[234 rows x 3 columns]"
      ]
     },
     "execution_count": 100,
     "metadata": {},
     "output_type": "execute_result"
    }
   ],
   "source": [
    "df_Country"
   ]
  },
  {
   "cell_type": "code",
   "execution_count": 111,
   "id": "7ef0aa2e",
   "metadata": {},
   "outputs": [
    {
     "data": {
      "text/plain": [
       "<sqlite3.Cursor at 0x29137372420>"
      ]
     },
     "execution_count": 111,
     "metadata": {},
     "output_type": "execute_result"
    }
   ],
   "source": [
    "querry=\"DROP TABLE IF EXISTS  Country;\"\n",
    "curr.execute(querry)"
   ]
  },
  {
   "cell_type": "code",
   "execution_count": 112,
   "id": "f16e8ce1",
   "metadata": {},
   "outputs": [],
   "source": [
    "querry=\"\"\" CREATE TABLE Country(\n",
    "    country_id int(3), \n",
    "  country_noc  text(4) , \n",
    "  country text(20) Primary Key,\n",
    "  FOREIGN KEY ( country) REFERENCES Athlete_Bio(country)  \n",
    "\n",
    ")\"\"\""
   ]
  },
  {
   "cell_type": "code",
   "execution_count": 113,
   "id": "7a5a3775",
   "metadata": {},
   "outputs": [
    {
     "data": {
      "text/plain": [
       "<sqlite3.Cursor at 0x29137372420>"
      ]
     },
     "execution_count": 113,
     "metadata": {},
     "output_type": "execute_result"
    }
   ],
   "source": [
    "curr.execute(querry)"
   ]
  },
  {
   "cell_type": "code",
   "execution_count": 114,
   "id": "ec7a8376",
   "metadata": {},
   "outputs": [
    {
     "data": {
      "text/plain": [
       "(234, 3)"
      ]
     },
     "execution_count": 114,
     "metadata": {},
     "output_type": "execute_result"
    }
   ],
   "source": [
    "df_Country_Tuple=tuple(df_Country.itertuples(index=False,name=None))\n",
    "df_Country.shape"
   ]
  },
  {
   "cell_type": "code",
   "execution_count": 115,
   "id": "643b5ce6",
   "metadata": {},
   "outputs": [],
   "source": [
    "insertQuery=\"\"\"INSERT into  Country values(?,?,?)\"\"\""
   ]
  },
  {
   "cell_type": "code",
   "execution_count": 116,
   "id": "0a6b2a7d",
   "metadata": {},
   "outputs": [
    {
     "data": {
      "text/plain": [
       "<sqlite3.Cursor at 0x29137372420>"
      ]
     },
     "execution_count": 116,
     "metadata": {},
     "output_type": "execute_result"
    }
   ],
   "source": [
    "curr.executemany(insertQuery,df_Country_Tuple)"
   ]
  },
  {
   "cell_type": "code",
   "execution_count": 117,
   "id": "13df4991",
   "metadata": {},
   "outputs": [
    {
     "name": "stdout",
     "output_type": "stream",
     "text": [
      "(1, 'AFG', 'Afghanistan')\n"
     ]
    }
   ],
   "source": [
    "querry=\"select * from Country\"\n",
    "curr.execute(querry)\n",
    "results= curr.fetchone()\n",
    "print(results)"
   ]
  },
  {
   "cell_type": "code",
   "execution_count": null,
   "id": "c670d68a",
   "metadata": {},
   "outputs": [],
   "source": []
  },
  {
   "cell_type": "code",
   "execution_count": null,
   "id": "fabca8f9",
   "metadata": {},
   "outputs": [],
   "source": []
  },
  {
   "cell_type": "code",
   "execution_count": null,
   "id": "701a67c6",
   "metadata": {},
   "outputs": [],
   "source": []
  },
  {
   "cell_type": "code",
   "execution_count": 73,
   "id": "14ca7ff5",
   "metadata": {},
   "outputs": [
    {
     "data": {
      "text/plain": [
       "Index(['s/n', 'edition', 'edition_id', 'year', 'country', 'country_noc',\n",
       "       'gold', 'silver', 'bronze', 'total'],\n",
       "      dtype='object')"
      ]
     },
     "execution_count": 73,
     "metadata": {},
     "output_type": "execute_result"
    }
   ],
   "source": [
    "df_Medal.columns"
   ]
  },
  {
   "cell_type": "code",
   "execution_count": null,
   "id": "5346701e",
   "metadata": {},
   "outputs": [],
   "source": []
  },
  {
   "cell_type": "code",
   "execution_count": 74,
   "id": "58408c71",
   "metadata": {},
   "outputs": [],
   "source": [
    "querry=\"\"\"CREATE TABLE Games(\n",
    "    Games_id int(6) Primary Key,\n",
    "    edition char(50),\n",
    "    edition_id int(5),\n",
    "    edition_url varchar(20),\n",
    "    year char(6),\n",
    "    city text(20),\n",
    "    country_flag_url char(50),\n",
    "    country_noc text(5),\n",
    "    start_date char(10),\n",
    "    end_time char(10),\n",
    "    isHeld char(6),\n",
    "    competition_start_time char(10),\n",
    "    competition_end_time char(10),\n",
    "    FOREIGN KEY (edition_id) REFERENCES  Athlete_Events (edition_id),\n",
    "    FOREIGN KEY (edition_id) REFERENCES  Games_Medal_Rally (edition_id),\n",
    "    FOREIGN KEY (year) REFERENCES  Games_Medal_Rally (year)\n",
    "    \n",
    "\n",
    ") \"\"\""
   ]
  },
  {
   "cell_type": "code",
   "execution_count": 75,
   "id": "18bb9031",
   "metadata": {},
   "outputs": [
    {
     "data": {
      "text/plain": [
       "<sqlite3.Cursor at 0x29137372420>"
      ]
     },
     "execution_count": 75,
     "metadata": {},
     "output_type": "execute_result"
    }
   ],
   "source": [
    "curr.execute(querry)"
   ]
  },
  {
   "cell_type": "code",
   "execution_count": 76,
   "id": "91ec5463",
   "metadata": {},
   "outputs": [
    {
     "data": {
      "text/plain": [
       "(62, 13)"
      ]
     },
     "execution_count": 76,
     "metadata": {},
     "output_type": "execute_result"
    }
   ],
   "source": [
    "df_Games_Tuple=tuple(df_Games.itertuples(index=False,name=None))\n",
    "df_Games.shape"
   ]
  },
  {
   "cell_type": "code",
   "execution_count": 80,
   "id": "411b806f",
   "metadata": {},
   "outputs": [],
   "source": [
    "insertQuery=\"\"\"INSERT into  Games values(?,?,?,?,?,?,?,?,?,?,?,?,?)\"\"\""
   ]
  },
  {
   "cell_type": "code",
   "execution_count": 81,
   "id": "9d88f397",
   "metadata": {},
   "outputs": [
    {
     "data": {
      "text/plain": [
       "<sqlite3.Cursor at 0x29137372420>"
      ]
     },
     "execution_count": 81,
     "metadata": {},
     "output_type": "execute_result"
    }
   ],
   "source": [
    "curr.executemany(insertQuery,df_Games_Tuple)"
   ]
  },
  {
   "cell_type": "code",
   "execution_count": 82,
   "id": "a2a86902",
   "metadata": {},
   "outputs": [],
   "source": [
    "querry=\"select * from Games\""
   ]
  },
  {
   "cell_type": "code",
   "execution_count": 83,
   "id": "3943806f",
   "metadata": {},
   "outputs": [
    {
     "name": "stdout",
     "output_type": "stream",
     "text": [
      "(1, '1896 Summer Olympics', 1, '/editions/1', '1896', 'Athina', '/images/flags/GRE.png', 'GRE', '1896-04-06', '1896-04-15', 'na', '1896-04-06', '1896-04-13')\n"
     ]
    }
   ],
   "source": [
    "curr.execute(querry)\n",
    "results= curr.fetchone()\n",
    "print(results)"
   ]
  },
  {
   "cell_type": "code",
   "execution_count": null,
   "id": "41e28799",
   "metadata": {},
   "outputs": [],
   "source": []
  },
  {
   "cell_type": "code",
   "execution_count": 118,
   "id": "ebf01f6c",
   "metadata": {},
   "outputs": [],
   "source": [
    "# Closing the connector\n",
    "connector.commit()\n",
    "connector.close()"
   ]
  },
  {
   "cell_type": "code",
   "execution_count": 119,
   "id": "777b606d",
   "metadata": {},
   "outputs": [
    {
     "ename": "ProgrammingError",
     "evalue": "Cannot operate on a closed database.",
     "output_type": "error",
     "traceback": [
      "\u001b[1;31m---------------------------------------------------------------------------\u001b[0m",
      "\u001b[1;31mProgrammingError\u001b[0m                          Traceback (most recent call last)",
      "Input \u001b[1;32mIn [119]\u001b[0m, in \u001b[0;36m<cell line: 2>\u001b[1;34m()\u001b[0m\n\u001b[0;32m      1\u001b[0m querry\u001b[38;5;241m=\u001b[39m\u001b[38;5;124m\"\u001b[39m\u001b[38;5;124mselect * from Games\u001b[39m\u001b[38;5;124m\"\u001b[39m\n\u001b[1;32m----> 2\u001b[0m \u001b[43mcurr\u001b[49m\u001b[38;5;241;43m.\u001b[39;49m\u001b[43mexecute\u001b[49m\u001b[43m(\u001b[49m\u001b[43mquerry\u001b[49m\u001b[43m)\u001b[49m\n\u001b[0;32m      3\u001b[0m results\u001b[38;5;241m=\u001b[39m curr\u001b[38;5;241m.\u001b[39mfetchone()\n\u001b[0;32m      4\u001b[0m \u001b[38;5;28mprint\u001b[39m(results)\n",
      "\u001b[1;31mProgrammingError\u001b[0m: Cannot operate on a closed database."
     ]
    }
   ],
   "source": []
  },
  {
   "cell_type": "code",
   "execution_count": 120,
   "id": "235fc5fc",
   "metadata": {},
   "outputs": [
    {
     "data": {
      "text/plain": [
       "'C:\\\\Users\\\\Dell\\\\Documents\\\\sql-course-materials\\\\SQL Course Materials\\\\Olypmic'"
      ]
     },
     "execution_count": 120,
     "metadata": {},
     "output_type": "execute_result"
    }
   ],
   "source": [
    "os.getcwd()"
   ]
  },
  {
   "cell_type": "code",
   "execution_count": 123,
   "id": "b7c32dbd",
   "metadata": {},
   "outputs": [],
   "source": [
    "path=\"C:/Users/Dell/Documents/sql-course-materials/SQL Course Materials\""
   ]
  },
  {
   "cell_type": "code",
   "execution_count": 124,
   "id": "7c5c9ffe",
   "metadata": {},
   "outputs": [],
   "source": [
    "os.chdir(path)"
   ]
  },
  {
   "cell_type": "code",
   "execution_count": null,
   "id": "6744ceca",
   "metadata": {},
   "outputs": [],
   "source": []
  },
  {
   "cell_type": "code",
   "execution_count": 125,
   "id": "093283e9",
   "metadata": {},
   "outputs": [],
   "source": [
    "## To view all table Created\n",
    "%%capture\n",
    "%load_ext sql\n",
    "%sql sqlite:///Olympic_Data.db"
   ]
  },
  {
   "cell_type": "code",
   "execution_count": 126,
   "id": "417ef488",
   "metadata": {},
   "outputs": [
    {
     "name": "stdout",
     "output_type": "stream",
     "text": [
      " * sqlite:///Olympic_Data.db\n",
      "Done.\n"
     ]
    },
    {
     "data": {
      "text/html": [
       "<table>\n",
       "    <tr>\n",
       "        <th>type</th>\n",
       "        <th>name</th>\n",
       "        <th>tbl_name</th>\n",
       "        <th>rootpage</th>\n",
       "        <th>sql</th>\n",
       "    </tr>\n",
       "    <tr>\n",
       "        <td>table</td>\n",
       "        <td>Athlete_Bio</td>\n",
       "        <td>Athlete_Bio</td>\n",
       "        <td>2</td>\n",
       "        <td>CREATE TABLE Athlete_Bio(<br>    Athlete_Bio_id int(6),<br>    Athlete_id int(6) PRIMARY KEY,<br>    name text(50),<br>    sex  text(6),<br>    born char(12),<br>    height numeric(6),<br>    weight numeric(6),<br>    country text(20),<br>    country_noc text(6),<br>    description text,<br>    special_notes  text)</td>\n",
       "    </tr>\n",
       "    <tr>\n",
       "        <td>table</td>\n",
       "        <td>Athlete_Events</td>\n",
       "        <td>Athlete_Events</td>\n",
       "        <td>14967</td>\n",
       "        <td>CREATE TABLE Athlete_Events(<br>    Event_ID int(6) Primary Key,<br>    edition char(50),<br>    edition_id int(5),<br>    country_noc text(5),<br>    sport text(20),<br>    event char(20),<br>    result_id int(20),<br>    athlete text(50),<br>    athlete_id  int(50),<br>    pos varchar(10),<br>    medal text(10),<br>    isTeamSport text(10),<br>    FOREIGN KEY (athlete_id) REFERENCES Athlete_Bio (Athlete_id),<br>    FOREIGN KEY (athlete) REFERENCES Athlete_Bio (name)<br> )</td>\n",
       "    </tr>\n",
       "    <tr>\n",
       "        <td>table</td>\n",
       "        <td>Games_Medal_Rally</td>\n",
       "        <td>Games_Medal_Rally</td>\n",
       "        <td>24048</td>\n",
       "        <td>CREATE TABLE Games_Medal_Rally(<br>    Medal_ID int(5) Primary Key,<br>    edition char(50),<br>    edition_id int(5),<br>    year char(4),<br>    country text(50),<br>    country_noc text(5),<br>    gold int(5),<br>    silver int(5),<br>     bronze int(5),<br>     total int (5),<br>    FOREIGN KEY ( edition_id) REFERENCES Athlete_Events_Results(edition_id)<br>     )</td>\n",
       "    </tr>\n",
       "    <tr>\n",
       "        <td>table</td>\n",
       "        <td>Games</td>\n",
       "        <td>Games</td>\n",
       "        <td>24081</td>\n",
       "        <td>CREATE TABLE Games(<br>    Games_id int(6) Primary Key,<br>    edition char(50),<br>    edition_id int(5),<br>    edition_url varchar(20),<br>    year char(6),<br>    city text(20),<br>    country_flag_url char(50),<br>    country_noc text(5),<br>    start_date char(10),<br>    end_time char(10),<br>    isHeld char(6),<br>    competition_start_time char(10),<br>    competition_end_time char(10),<br>    FOREIGN KEY (edition_id) REFERENCES  Athlete_Events (edition_id),<br>    FOREIGN KEY (edition_id) REFERENCES  Games_Medal_Rally (edition_id),<br>    FOREIGN KEY (year) REFERENCES  Games_Medal_Rally (year)<br>    <br><br>)</td>\n",
       "    </tr>\n",
       "    <tr>\n",
       "        <td>table</td>\n",
       "        <td>RESULTS</td>\n",
       "        <td>RESULTS</td>\n",
       "        <td>24085</td>\n",
       "        <td>CREATE TABLE RESULTS(<br>    RESLT_id int,<br>    result_id int(6) Primary Key,<br>    event_title  char(20),<br>    edition char(50),<br>    edition_id int(5),<br>    sport varchar(15),<br>    sport_url text(20),<br>    result_location  text(50),<br>    result_participants text(50),<br>    result_format  text(50),<br>    result_detail text(20),<br>    result_description text(20),<br>    start_date char(10),<br>    end_date char(10),<br>    time char(13),<br>    FOREIGN KEY (edition_id) REFERENCES  Athlete_Events (edition_id),<br>    FOREIGN KEY (edition_id) REFERENCES  Games (edition_id))</td>\n",
       "    </tr>\n",
       "    <tr>\n",
       "        <td>table</td>\n",
       "        <td>Country</td>\n",
       "        <td>Country</td>\n",
       "        <td>27211</td>\n",
       "        <td>CREATE TABLE Country(<br>    country_id int(3), <br>  country_noc  text(4) , <br>  country text(20) Primary Key,<br>  FOREIGN KEY ( country) REFERENCES Athlete_Bio(country)  <br><br>)</td>\n",
       "    </tr>\n",
       "</table>"
      ],
      "text/plain": [
       "[('table', 'Athlete_Bio', 'Athlete_Bio', 2, 'CREATE TABLE Athlete_Bio(\\n    Athlete_Bio_id int(6),\\n    Athlete_id int(6) PRIMARY KEY,\\n    name text(50),\\n    sex  text(6),\\n    born char(12),\\n    height numeric(6),\\n    weight numeric(6),\\n    country text(20),\\n    country_noc text(6),\\n    description text,\\n    special_notes  text)'),\n",
       " ('table', 'Athlete_Events', 'Athlete_Events', 14967, 'CREATE TABLE Athlete_Events(\\n    Event_ID int(6) Primary Key,\\n    edition char(50),\\n    edition_id int(5),\\n    country_noc text(5),\\n    sport te ... (150 characters truncated) ... isTeamSport text(10),\\n    FOREIGN KEY (athlete_id) REFERENCES Athlete_Bio (Athlete_id),\\n    FOREIGN KEY (athlete) REFERENCES Athlete_Bio (name)\\n )'),\n",
       " ('table', 'Games_Medal_Rally', 'Games_Medal_Rally', 24048, 'CREATE TABLE Games_Medal_Rally(\\n    Medal_ID int(5) Primary Key,\\n    edition char(50),\\n    edition_id int(5),\\n    year char(4),\\n    country text ... (47 characters truncated) ... ),\\n    silver int(5),\\n     bronze int(5),\\n     total int (5),\\n    FOREIGN KEY ( edition_id) REFERENCES Athlete_Events_Results(edition_id)\\n     )'),\n",
       " ('table', 'Games', 'Games', 24081, 'CREATE TABLE Games(\\n    Games_id int(6) Primary Key,\\n    edition char(50),\\n    edition_id int(5),\\n    edition_url varchar(20),\\n    year char(6), ... (291 characters truncated) ... d),\\n    FOREIGN KEY (edition_id) REFERENCES  Games_Medal_Rally (edition_id),\\n    FOREIGN KEY (year) REFERENCES  Games_Medal_Rally (year)\\n    \\n\\n)'),\n",
       " ('table', 'RESULTS', 'RESULTS', 24085, 'CREATE TABLE RESULTS(\\n    RESLT_id int,\\n    result_id int(6) Primary Key,\\n    event_title  char(20),\\n    edition char(50),\\n    edition_id int(5) ... (264 characters truncated) ...   time char(13),\\n    FOREIGN KEY (edition_id) REFERENCES  Athlete_Events (edition_id),\\n    FOREIGN KEY (edition_id) REFERENCES  Games (edition_id))'),\n",
       " ('table', 'Country', 'Country', 27211, 'CREATE TABLE Country(\\n    country_id int(3), \\n  country_noc  text(4) , \\n  country text(20) Primary Key,\\n  FOREIGN KEY ( country) REFERENCES Athlete_Bio(country)  \\n\\n)')]"
      ]
     },
     "execution_count": 126,
     "metadata": {},
     "output_type": "execute_result"
    }
   ],
   "source": [
    "%sql select * from sqlite_master where type='table'"
   ]
  },
  {
   "cell_type": "code",
   "execution_count": null,
   "id": "6d9812a1",
   "metadata": {},
   "outputs": [],
   "source": []
  }
 ],
 "metadata": {
  "kernelspec": {
   "display_name": "Python 3 (ipykernel)",
   "language": "python",
   "name": "python3"
  },
  "language_info": {
   "codemirror_mode": {
    "name": "ipython",
    "version": 3
   },
   "file_extension": ".py",
   "mimetype": "text/x-python",
   "name": "python",
   "nbconvert_exporter": "python",
   "pygments_lexer": "ipython3",
   "version": "3.9.12"
  },
  "toc": {
   "base_numbering": 1,
   "nav_menu": {},
   "number_sections": true,
   "sideBar": true,
   "skip_h1_title": false,
   "title_cell": "Table of Contents",
   "title_sidebar": "Contents",
   "toc_cell": false,
   "toc_position": {},
   "toc_section_display": true,
   "toc_window_display": false
  }
 },
 "nbformat": 4,
 "nbformat_minor": 5
}
